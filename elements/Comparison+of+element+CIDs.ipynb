{
 "cells": [
  {
   "cell_type": "code",
   "execution_count": 1,
   "metadata": {
    "collapsed": true
   },
   "outputs": [],
   "source": [
    "from pubchempy import *"
   ]
  },
  {
   "cell_type": "code",
   "execution_count": 24,
   "metadata": {
    "collapsed": false
   },
   "outputs": [
    {
     "name": "stdout",
     "output_type": "stream",
     "text": [
      "Rg\n",
      "Og\n",
      "Mc\n",
      "Nh\n",
      "Fl\n",
      "Cn\n",
      "Ts\n",
      "Lv\n",
      "Ds\n"
     ]
    }
   ],
   "source": [
    "from thermo import *\n",
    "from thermo.elements import periodic_table\n",
    "data = {}\n",
    "for k, d in periodic_table.symbol_to_elements.items():\n",
    "    pass\n",
    "    try:\n",
    "        cid = get_compounds('InChI=1S/' + d.InChI, namespace='inchi')[0].cid\n",
    "        data[k] = cid\n",
    "#         Chemical(k).PubChem\n",
    "    except:\n",
    "        print(k)"
   ]
  },
  {
   "cell_type": "code",
   "execution_count": 33,
   "metadata": {
    "collapsed": false
   },
   "outputs": [
    {
     "data": {
      "text/plain": [
       "23950"
      ]
     },
     "execution_count": 33,
     "metadata": {},
     "output_type": "execute_result"
    }
   ],
   "source": [
    "Chemical('Ru').PubChem"
   ]
  },
  {
   "cell_type": "code",
   "execution_count": 41,
   "metadata": {
    "collapsed": false
   },
   "outputs": [
    {
     "name": "stdout",
     "output_type": "stream",
     "text": [
      "Rf\n",
      "Bh\n",
      "Br\n",
      "H\n",
      "C\n",
      "Hs\n",
      "('FAILED', 'Oxygen')\n",
      "Mt\n",
      "S\n",
      "Fr\n",
      "Fm\n",
      "F\n",
      "N\n",
      "Sg\n",
      "Cl\n",
      "Lr\n",
      "Th\n",
      "Db\n",
      "('FAILED', 'Iodine')\n",
      "Ac\n"
     ]
    }
   ],
   "source": [
    "# i = periodic_table.Na.InChI\n",
    "# i\n",
    "\n",
    "for k, d in periodic_table.symbol_to_elements.items():\n",
    "    if k in data:\n",
    "        try:\n",
    "            chem = Chemical(k)\n",
    "            if chem.PubChem != data[k]:\n",
    "                print('FAILED', d.name)\n",
    "        except:\n",
    "            print(k)"
   ]
  },
  {
   "cell_type": "code",
   "execution_count": 21,
   "metadata": {
    "collapsed": false
   },
   "outputs": [
    {
     "data": {
      "text/plain": [
       "5360545"
      ]
     },
     "execution_count": 21,
     "metadata": {},
     "output_type": "execute_result"
    }
   ],
   "source": []
  },
  {
   "cell_type": "code",
   "execution_count": 14,
   "metadata": {
    "collapsed": false
   },
   "outputs": [
    {
     "data": {
      "text/plain": [
       "u'Na'"
      ]
     },
     "execution_count": 14,
     "metadata": {},
     "output_type": "execute_result"
    }
   ],
   "source": []
  },
  {
   "cell_type": "code",
   "execution_count": null,
   "metadata": {
    "collapsed": true
   },
   "outputs": [],
   "source": []
  }
 ],
 "metadata": {
  "kernelspec": {
   "display_name": "Python 2",
   "language": "python",
   "name": "python2"
  },
  "language_info": {
   "codemirror_mode": {
    "name": "ipython",
    "version": 2
   },
   "file_extension": ".py",
   "mimetype": "text/x-python",
   "name": "python",
   "nbconvert_exporter": "python",
   "pygments_lexer": "ipython2",
   "version": "2.7.13"
  }
 },
 "nbformat": 4,
 "nbformat_minor": 1
}
