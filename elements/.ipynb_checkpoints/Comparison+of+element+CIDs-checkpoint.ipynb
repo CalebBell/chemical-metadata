{
 "cells": [
  {
   "cell_type": "code",
   "execution_count": 4,
   "metadata": {},
   "outputs": [],
   "source": [
    "from pubchempy import *"
   ]
  },
  {
   "cell_type": "code",
   "execution_count": 5,
   "metadata": {},
   "outputs": [
    {
     "name": "stdout",
     "output_type": "stream",
     "text": [
      "'PUGREST.BadRequest: error: '\n",
      "'PUGREST.BadRequest: error: '\n",
      "'PUGREST.BadRequest: error: '\n",
      "'PUGREST.BadRequest: error: '\n",
      "'PUGREST.BadRequest: error: '\n",
      "'PUGREST.BadRequest: error: '\n",
      "'PUGREST.BadRequest: error: '\n"
     ]
    }
   ],
   "source": [
    "from chemicals import *\n",
    "from chemicals.elements import periodic_table\n",
    "data = {}\n",
    "for k, d in periodic_table._symbol_to_elements.items():\n",
    "    pass\n",
    "    try:\n",
    "        cid = get_compounds('InChI=1S/' + d.InChI, namespace='inchi')[0].cid\n",
    "        data[k] = cid\n",
    "#         Chemical(k).PubChem\n",
    "    except Exception as e:\n",
    "        print(e)"
   ]
  },
  {
   "cell_type": "code",
   "execution_count": 41,
   "metadata": {},
   "outputs": [
    {
     "name": "stdout",
     "output_type": "stream",
     "text": [
      "Rf\n",
      "Bh\n",
      "Br\n",
      "H\n",
      "C\n",
      "Hs\n",
      "('FAILED', 'Oxygen')\n",
      "Mt\n",
      "S\n",
      "Fr\n",
      "Fm\n",
      "F\n",
      "N\n",
      "Sg\n",
      "Cl\n",
      "Lr\n",
      "Th\n",
      "Db\n",
      "('FAILED', 'Iodine')\n",
      "Ac\n"
     ]
    }
   ],
   "source": [
    "# i = periodic_table.Na.InChI\n",
    "# i\n",
    "\n",
    "for k, d in periodic_table._symbol_to_elements.items():\n",
    "    if k in data:\n",
    "        try:\n",
    "            chem = Chemical(k)\n",
    "            if chem.PubChem != data[k]:\n",
    "                print('FAILED', d.name)\n",
    "        except:\n",
    "            print(k)"
   ]
  },
  {
   "cell_type": "code",
   "execution_count": 21,
   "metadata": {},
   "outputs": [
    {
     "data": {
      "text/plain": [
       "5360545"
      ]
     },
     "execution_count": 21,
     "metadata": {},
     "output_type": "execute_result"
    }
   ],
   "source": []
  },
  {
   "cell_type": "code",
   "execution_count": 14,
   "metadata": {},
   "outputs": [
    {
     "data": {
      "text/plain": [
       "u'Na'"
      ]
     },
     "execution_count": 14,
     "metadata": {},
     "output_type": "execute_result"
    }
   ],
   "source": []
  },
  {
   "cell_type": "code",
   "execution_count": null,
   "metadata": {
    "collapsed": true
   },
   "outputs": [],
   "source": []
  }
 ],
 "metadata": {
  "kernelspec": {
   "display_name": "Python 3",
   "language": "python",
   "name": "python3"
  },
  "language_info": {
   "codemirror_mode": {
    "name": "ipython",
    "version": 3
   },
   "file_extension": ".py",
   "mimetype": "text/x-python",
   "name": "python",
   "nbconvert_exporter": "python",
   "pygments_lexer": "ipython3",
   "version": "3.9.2"
  }
 },
 "nbformat": 4,
 "nbformat_minor": 1
}
