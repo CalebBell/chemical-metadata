{
 "cells": [
  {
   "cell_type": "code",
   "execution_count": 7,
   "metadata": {
    "collapsed": false
   },
   "outputs": [
    {
     "name": "stdout",
     "output_type": "stream",
     "text": [
      "/home/caleb/Documents/University/CHE3123/chemical-metadata/scifinder-organic/mol/10043-01-3.mol\n",
      "/home/caleb/Documents/University/CHE3123/chemical-metadata/scifinder-organic/mol/12136-45-7.mol\n",
      "/home/caleb/Documents/University/CHE3123/chemical-metadata/scifinder-organic/mol/1313-82-2.mol\n",
      "/home/caleb/Documents/University/CHE3123/chemical-metadata/scifinder-organic/mol/1314-80-3.mol\n",
      "/home/caleb/Documents/University/CHE3123/chemical-metadata/scifinder-organic/mol/7632-04-4.mol\n",
      "/home/caleb/Documents/University/CHE3123/chemical-metadata/scifinder-organic/mol/7722-88-5.mol\n",
      "/home/caleb/Documents/University/CHE3123/chemical-metadata/scifinder-organic/mol/7758-29-4.mol\n",
      "/home/caleb/Documents/University/CHE3123/chemical-metadata/scifinder-organic/mol/7784-30-7.mol\n",
      "/home/caleb/Documents/University/CHE3123/chemical-metadata/scifinder-organic/mol/7790-31-0.mol\n",
      "/home/caleb/Documents/University/CHE3123/chemical-metadata/scifinder-organic/mol/13598-36-2.mol\n",
      "/home/caleb/Documents/University/CHE3123/chemical-metadata/scifinder-organic/mol/7783-07-5.mol\n",
      "/home/caleb/Documents/University/CHE3123/chemical-metadata/scifinder-organic/mol/360-89-4.mol\n",
      "/home/caleb/Documents/University/CHE3123/chemical-metadata/scifinder-organic/mol/1309-37-1.mol\n",
      "/home/caleb/Documents/University/CHE3123/chemical-metadata/scifinder-organic/mol/6303-21-5.mol\n",
      "/home/caleb/Documents/University/CHE3123/chemical-metadata/scifinder-organic/mol/7803-62-5.mol\n",
      "/home/caleb/Documents/University/CHE3123/chemical-metadata/scifinder-organic/mol/7784-42-1.mol\n",
      "/home/caleb/Documents/University/CHE3123/chemical-metadata/scifinder-organic/mol/7782-65-2.mol\n",
      "/home/caleb/Documents/University/CHE3123/chemical-metadata/scifinder-organic/mol/14808-60-7.mol\n",
      "/home/caleb/Documents/University/CHE3123/chemical-metadata/scifinder-organic/mol/7632-51-1.mol\n",
      "/home/caleb/Documents/University/CHE3123/chemical-metadata/scifinder-organic/mol/7803-51-2.mol\n",
      "/home/caleb/Documents/University/CHE3123/chemical-metadata/scifinder-organic/mol/10102-44-0.mol\n",
      "/home/caleb/Documents/University/CHE3123/chemical-metadata/scifinder-organic/mol/1309-42-8.mol\n",
      "/home/caleb/Documents/University/CHE3123/chemical-metadata/scifinder-organic/mol/1317-43-7.mol\n",
      "/home/caleb/Documents/University/CHE3123/chemical-metadata/scifinder-organic/mol/7783-58-6.mol\n",
      "/home/caleb/Documents/University/CHE3123/chemical-metadata/scifinder-organic/mol/7789-75-5.mol\n",
      "/home/caleb/Documents/University/CHE3123/chemical-metadata/scifinder-organic/mol/7550-45-0.mol\n",
      "/home/caleb/Documents/University/CHE3123/chemical-metadata/scifinder-organic/mol/12135-76-1.mol\n",
      "/home/caleb/Documents/University/CHE3123/chemical-metadata/scifinder-organic/mol/10043-52-4.mol\n",
      "/home/caleb/Documents/University/CHE3123/chemical-metadata/scifinder-organic/mol/10377-58-9.mol\n",
      "/home/caleb/Documents/University/CHE3123/chemical-metadata/scifinder-organic/mol/7705-07-9.mol\n",
      "/home/caleb/Documents/University/CHE3123/chemical-metadata/scifinder-organic/mol/21645-51-2.mol\n"
     ]
    }
   ],
   "source": [
    "from thermo import *\n",
    "import os\n",
    "\n",
    "def parse_formula_CAS(line):\n",
    "    values = line.rstrip('\\n').split('\\t')\n",
    "    (pubchemid, CAS, formula, MW, smiles, InChI, InChI_key, iupac_name, common_name) = values[0:9]\n",
    "    others = values[9:]\n",
    "    return formula, CAS\n",
    "\n",
    "def to_move(line):\n",
    "    formula, CAS = parse_formula_CAS(line)\n",
    "    if 'H' in formula and 'C' in formula:\n",
    "        return False, CAS\n",
    "    return True, CAS\n",
    "\n",
    "organic_dir = '/home/caleb/Documents/University/CHE3123/chemical-metadata/scifinder-organic/'\n",
    "inorganic_dir = '/home/caleb/Documents/University/CHE3123/chemical-metadata/scifinder-inorganic/'\n",
    "\n",
    "f = open(organic_dir+'db_20171008.tsv')\n",
    "for line in f:\n",
    "    inorganic, CAS = to_move(line)\n",
    "    if inorganic:\n",
    "        mol = os.path.join(organic_dir, 'mol', CAS + '.mol')\n",
    "        pdf = os.path.join(organic_dir, 'pdf', CAS + '.pdf')\n",
    "        try:\n",
    "            os.rename(mol, os.path.join(inorganic_dir, 'mol', CAS + '.mol'))\n",
    "        except:\n",
    "            pass\n",
    "        try:\n",
    "            os.rename(pdf, os.path.join(inorganic_dir, 'pdf', CAS + '.pdf'))\n",
    "        except:\n",
    "            pass\n",
    "        \n"
   ]
  },
  {
   "cell_type": "code",
   "execution_count": 9,
   "metadata": {
    "collapsed": false
   },
   "outputs": [],
   "source": [
    "# dir(os)"
   ]
  },
  {
   "cell_type": "code",
   "execution_count": null,
   "metadata": {
    "collapsed": true
   },
   "outputs": [],
   "source": []
  }
 ],
 "metadata": {
  "kernelspec": {
   "display_name": "Python 2",
   "language": "python",
   "name": "python2"
  },
  "language_info": {
   "codemirror_mode": {
    "name": "ipython",
    "version": 2
   },
   "file_extension": ".py",
   "mimetype": "text/x-python",
   "name": "python",
   "nbconvert_exporter": "python",
   "pygments_lexer": "ipython2",
   "version": "2.7.13"
  }
 },
 "nbformat": 4,
 "nbformat_minor": 1
}
