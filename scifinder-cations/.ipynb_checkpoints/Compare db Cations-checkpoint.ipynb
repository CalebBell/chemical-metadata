{
 "cells": [
  {
   "cell_type": "code",
   "execution_count": 9,
   "metadata": {
    "collapsed": false
   },
   "outputs": [
    {
     "data": {
      "text/plain": [
       "<thermo.identifiers.ChemicalMetadataDB at 0x7fa4a43efb50>"
      ]
     },
     "execution_count": 9,
     "metadata": {},
     "output_type": "execute_result"
    }
   ],
   "source": [
    "from thermo import *\n",
    "from thermo.identifiers import ChemicalMetadataDB\n",
    "from numpy.testing import assert_allclose\n",
    "from rdkit import Chem\n",
    "from rdkit.Chem import Descriptors\n",
    "from rdkit.Chem.rdMolDescriptors import CalcMolFormula\n",
    "\n",
    "# a = ChemicalMetadataDB(elements=False, main_db=('cation_db_20171029.tsv'), user_dbs=[])\n",
    "\n",
    "a = ChemicalMetadataDB(elements=False, main_db=('Cation db.tsv'), user_dbs=[])\n",
    "a"
   ]
  },
  {
   "cell_type": "code",
   "execution_count": 20,
   "metadata": {
    "collapsed": false
   },
   "outputs": [],
   "source": [
    "data = {}\n",
    "with open('Original metadata.csv') as f:\n",
    "    f.readline()\n",
    "    for line in f.readlines():\n",
    "        if len(line.split('\\t')) == 6:\n",
    "            name, name2, CAS, formula, charge, MW = line.split('\\t')\n",
    "        else:\n",
    "            name, name2, CAS, formula, charge = line.split('\\t')\n",
    "            MW = 0\n",
    "        MW = MW.strip()\n",
    "        if not MW:\n",
    "            MW = 0\n",
    "        data[CAS] = {'Name': name, 'Name2': name2, 'formula': formula, 'charge':int(charge), 'MW': float(MW)}\n"
   ]
  },
  {
   "cell_type": "code",
   "execution_count": 4,
   "metadata": {
    "collapsed": false
   },
   "outputs": [
    {
     "ename": "NameError",
     "evalue": "name 'data' is not defined",
     "output_type": "error",
     "traceback": [
      "\u001b[0;31m---------------------------------------------------------------------------\u001b[0m",
      "\u001b[0;31mNameError\u001b[0m                                 Traceback (most recent call last)",
      "\u001b[0;32m<ipython-input-4-cf94c29fa8d3>\u001b[0m in \u001b[0;36m<module>\u001b[0;34m()\u001b[0m\n\u001b[0;32m----> 1\u001b[0;31m \u001b[0mgood_syns\u001b[0m \u001b[0;34m=\u001b[0m \u001b[0;34m{\u001b[0m\u001b[0mCAS\u001b[0m\u001b[0;34m:\u001b[0m\u001b[0;34m{\u001b[0m\u001b[0;34m'synonyms'\u001b[0m\u001b[0;34m:\u001b[0m \u001b[0;34m[\u001b[0m\u001b[0;34m]\u001b[0m\u001b[0;34m}\u001b[0m \u001b[0;32mfor\u001b[0m \u001b[0mCAS\u001b[0m\u001b[0;34m,\u001b[0m \u001b[0md\u001b[0m \u001b[0;32min\u001b[0m \u001b[0mdata\u001b[0m\u001b[0;34m.\u001b[0m\u001b[0mitems\u001b[0m\u001b[0;34m(\u001b[0m\u001b[0;34m)\u001b[0m\u001b[0;34m}\u001b[0m\u001b[0;34m\u001b[0m\u001b[0m\n\u001b[0m\u001b[1;32m      2\u001b[0m \u001b[0;34m\u001b[0m\u001b[0m\n\u001b[1;32m      3\u001b[0m \u001b[0;32mfor\u001b[0m \u001b[0mCAS\u001b[0m\u001b[0;34m,\u001b[0m \u001b[0md\u001b[0m \u001b[0;32min\u001b[0m \u001b[0mdata\u001b[0m\u001b[0;34m.\u001b[0m\u001b[0mitems\u001b[0m\u001b[0;34m(\u001b[0m\u001b[0;34m)\u001b[0m\u001b[0;34m:\u001b[0m\u001b[0;34m\u001b[0m\u001b[0m\n\u001b[1;32m      4\u001b[0m     \u001b[0;31m# Only take it if original data\u001b[0m\u001b[0;34m\u001b[0m\u001b[0;34m\u001b[0m\u001b[0m\n\u001b[1;32m      5\u001b[0m     \u001b[0;32mif\u001b[0m \u001b[0md\u001b[0m\u001b[0;34m[\u001b[0m\u001b[0;34m'MW'\u001b[0m\u001b[0;34m]\u001b[0m\u001b[0;34m:\u001b[0m\u001b[0;34m\u001b[0m\u001b[0m\n",
      "\u001b[0;31mNameError\u001b[0m: name 'data' is not defined"
     ]
    }
   ],
   "source": [
    "good_syns = {CAS:{'synonyms': []} for CAS, d in data.items()}\n",
    "                  \n",
    "for CAS, d in data.items():\n",
    "    # Only take it if original data\n",
    "    if d['MW']:\n",
    "        good_syns[CAS]['synonyms'].append(d['Name2'])\n",
    "\n",
    "for CAS, d in data.items():\n",
    "    formula = d['formula'].split('+')[0]\n",
    "    charge = d['charge']\n",
    "    formulas = [formula+'+'*charge, formula+'+'+str(charge),\n",
    "               formula+'('+'+'+ str(charge) + ')', formula+'('+ str(charge)+'+' + ')',\n",
    "               formula+'('+'+'*charge + ')']\n",
    "    good_syns[CAS]['synonyms'].extend(formulas)\n",
    "\n",
    "    \n",
    "good_syns['14464-47-2']['synonyms'].append('deuterium(1+)')\n",
    "InOHp3 = {'formula': 'InOH+3', 'MW': molecular_weight(nested_formula_parser('OHIn+3'))}\n",
    "\n",
    "\n",
    "custom_ions = {'1313606-05-1': InOHp3}\n",
    "\n",
    "for CAS, d in custom_ions.items():\n",
    "    if CAS in good_syns:\n",
    "        good_syns[CAS].update(d)\n",
    "    else:\n",
    "        good_syns[CAS] = d\n",
    "\n",
    "\n",
    "import json\n",
    "f = open('Good synoynms by CAS2.json', 'w')\n",
    "json.dump(good_syns, f, indent=2, separators=(',', ': '), sort_keys=True)\n",
    "\n",
    "# all_syns = []\n",
    "# for CAS, d in good_syns.items():\n",
    "#     all_syns.extend(d['synonyms'])\n",
    "# len(all_syns), len(set(all_syns))"
   ]
  },
  {
   "cell_type": "code",
   "execution_count": null,
   "metadata": {
    "collapsed": true
   },
   "outputs": [],
   "source": []
  },
  {
   "cell_type": "code",
   "execution_count": null,
   "metadata": {
    "collapsed": true
   },
   "outputs": [],
   "source": []
  },
  {
   "cell_type": "code",
   "execution_count": 30,
   "metadata": {
    "collapsed": false
   },
   "outputs": [
    {
     "data": {
      "text/plain": [
       "[('', 11),\n",
       " ('CID3028194', 1),\n",
       " ('Hydroxylammonium', 1),\n",
       " ('Mn(II)', 1),\n",
       " ('STL483864', 1),\n",
       " ('propanaminium, N,N,N-tripropyl', 1),\n",
       " ('strontium(II) cation', 1),\n",
       " ('CHEBI:45825', 1),\n",
       " ('PLATINUM(2+)  TETRAAMMINE-  DICHLORIDE  (SP-4-1)-  REACTION PRODUCTS WITH AMMONIA',\n",
       "  1),\n",
       " ('37466_RIEDEL', 1),\n",
       " ('Trihydroxytellanium', 1),\n",
       " ('DTXSID30169912', 1),\n",
       " ('ZrO++', 1),\n",
       " ('Carbolith Capsules 600mg', 1),\n",
       " ('Pe4N+', 1),\n",
       " ('I14-115545', 1),\n",
       " ('I14-115544', 1),\n",
       " ('Potassium, 99.95% trace metals basis  1g', 1),\n",
       " ('Fe(+3)', 1),\n",
       " ('N,N,N-Tributyl-1-butanaminium', 1)]"
      ]
     },
     "execution_count": 30,
     "metadata": {},
     "output_type": "execute_result"
    }
   ],
   "source": [
    "# Only 25 synonyms to go through, plus to remove the dups in there - not bad.\n",
    "from collections import Counter\n",
    "ns = []\n",
    "for i in a.CAS_index.values():\n",
    "    ns.extend(list(set(i.all_names)))\n",
    "#     assert len(i.all_names) == len(set(i.all_names))\n",
    "# len(ns), len(set(ns))\n",
    "Counter(ns).most_common(20)"
   ]
  },
  {
   "cell_type": "code",
   "execution_count": 32,
   "metadata": {
    "collapsed": false
   },
   "outputs": [],
   "source": [
    "# None of the charges are wrong?\n",
    "for CAS, d in data.items():\n",
    "    chem = a.search_CAS(CAS)\n",
    "    if not chem:\n",
    "        continue\n",
    "    mol = Chem.MolFromSmiles(chem.smiles)\n",
    "#     print(Chem.MolToSmiles(mol))\n",
    "    charge = Chem.GetFormalCharge(mol)\n",
    "    try:\n",
    "        assert charge == d['charge']\n",
    "#         print('PASS', charge, d['charge'])\n",
    "    except:\n",
    "        print('F:', charge, d['charge'], CAS)"
   ]
  },
  {
   "cell_type": "code",
   "execution_count": 4,
   "metadata": {
    "collapsed": false
   },
   "outputs": [],
   "source": [
    "# Chem.GetFormalCharge(Chem.MolFromSmiles('[SbH6+3]'))"
   ]
  },
  {
   "cell_type": "code",
   "execution_count": 33,
   "metadata": {
    "collapsed": false
   },
   "outputs": [
    {
     "data": {
      "text/plain": [
       "(117, 182)"
      ]
     },
     "execution_count": 33,
     "metadata": {},
     "output_type": "execute_result"
    }
   ],
   "source": [
    "len(a.pubchem_index), len(a.CAS_index)"
   ]
  },
  {
   "cell_type": "code",
   "execution_count": 6,
   "metadata": {
    "collapsed": false
   },
   "outputs": [],
   "source": [
    "# mol = Chem.MolFromMolFile('mol/14695-95-5.mol')\n",
    "# mol = Chem.MolFromMolFile('/tmp/399316.mol')\n",
    "\n",
    "# # # mol = Chem.MolFromSmiles('[Sb+3]')\n",
    "# # # When read, 1 atom\n",
    "# # Chem.MolToSmiles(mol, allHsExplicit=True)\n",
    "# # mol.GetNumAtoms()\n",
    "# mw = Descriptors.MolWt(mol)\n",
    "# formula = CalcMolFormula(mol)\n",
    "# mw, formula"
   ]
  },
  {
   "cell_type": "code",
   "execution_count": 37,
   "metadata": {
    "collapsed": false
   },
   "outputs": [
    {
     "name": "stdout",
     "output_type": "stream",
     "text": [
      "('F:', '22541-46-4', 243.0, 241.0, <ChemicalMetadata, name=Americium (Am3+), formula=Am+3, smiles=[Am+3], MW=243>)\n",
      "('F:', '22878-02-0', 274.998, 273.0, <ChemicalMetadata, name=Americium oxide (AmO2), ion(1+), formula=AmO2+, smiles=[Am+].[O].[O], MW=274.998>)\n",
      "('F:', '22853-00-5', 275.998, 271.0, <ChemicalMetadata, name=Dioxoplutonium ion(2+), formula=O2Pu+2, smiles=[O].[O].[Pu+2], MW=275.998>)\n",
      "('F:', '22967-56-2', 275.998, 271.0, <ChemicalMetadata, name=Dioxoplutonium ion(1+), formula=O2Pu+, smiles=[O].[O].[Pu+], MW=275.998>)\n",
      "('F:', '12323-66-9', 274.998, 273.0, <ChemicalMetadata, name=Americium dioxide ion(2+), formula=AmO2+2, smiles=[Am+2].[O].[O], MW=274.998>)\n",
      "('F:', '22541-16-8', 145.0, 147.0, <ChemicalMetadata, name=Pm3+, formula=Pm+3, smiles=[Pm+3], MW=145>)\n",
      "('F:', '22541-44-2', 244.0, 239.0, <ChemicalMetadata, name=Plutonium ion(4+), formula=Pu+4, smiles=[Pu+4], MW=244>)\n",
      "('F:', '22541-70-4', 244.0, 239.0, <ChemicalMetadata, name=Plutonium ion (3+), formula=Pu+3, smiles=[Pu+3], MW=244>)\n",
      "('F:', '22541-42-0', 247.0, 244.0, <ChemicalMetadata, name=Cm3+, formula=Cm+3, smiles=[Cm+3], MW=247>)\n"
     ]
    }
   ],
   "source": [
    "# Most of the MW ones fail due to having added extra hydrogens???? OR MW?\n",
    "for CAS, d in data.items():\n",
    "    chem = a.search_CAS(CAS)\n",
    "    if not chem or d['MW'] == 0:\n",
    "        continue\n",
    "    try:\n",
    "        assert_allclose(chem.MW, d['MW'], atol=0.25)\n",
    "    except:\n",
    "        print('F:', CAS, chem.MW, d['MW'],  chem)\n",
    "\n",
    "# 4 plutonium, 3 americium, 1 curioum, 1 promethium, 1 deuterium"
   ]
  },
  {
   "cell_type": "code",
   "execution_count": null,
   "metadata": {
    "collapsed": false
   },
   "outputs": [],
   "source": []
  },
  {
   "cell_type": "code",
   "execution_count": null,
   "metadata": {
    "collapsed": false
   },
   "outputs": [],
   "source": []
  },
  {
   "cell_type": "code",
   "execution_count": null,
   "metadata": {
    "collapsed": true
   },
   "outputs": [],
   "source": []
  }
 ],
 "metadata": {
  "kernelspec": {
   "display_name": "Python 2",
   "language": "python",
   "name": "python2"
  },
  "language_info": {
   "codemirror_mode": {
    "name": "ipython",
    "version": 2
   },
   "file_extension": ".py",
   "mimetype": "text/x-python",
   "name": "python",
   "nbconvert_exporter": "python",
   "pygments_lexer": "ipython2",
   "version": "2.7.13"
  }
 },
 "nbformat": 4,
 "nbformat_minor": 1
}
