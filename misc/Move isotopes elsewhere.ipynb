{
 "cells": [
  {
   "cell_type": "code",
   "execution_count": 12,
   "metadata": {
    "collapsed": false
   },
   "outputs": [],
   "source": [
    "from thermo import *\n",
    "\n",
    "\n",
    "file_name = '/home/caleb/Documents/University/CHE3123/thermo/thermo/Identifiers/chemical identifiers.tsv'\n",
    "f = open(file_name)\n",
    "f2 = open(file_name+'2', 'w')\n",
    "for line in f:\n",
    "    # This is effectively the documentation for the file format of the file\n",
    "    f2.write(fix_line(line))\n",
    "f2.close()\n",
    "f.close()"
   ]
  },
  {
   "cell_type": "code",
   "execution_count": 11,
   "metadata": {
    "collapsed": true
   },
   "outputs": [],
   "source": [
    "from rdkit.Chem import *\n",
    "from rdkit import Chem\n",
    "from rdkit.Chem import Descriptors\n",
    "from rdkit.Chem.rdMolDescriptors import CalcMolFormula\n",
    "\n",
    "def fix_line(line):\n",
    "    diff = False\n",
    "    values = line.rstrip('\\n').split('\\t')\n",
    "    (pubchemid, CAS, formula, MW, smiles, InChI, InChI_key, iupac_name, common_name) = values[0:9]\n",
    "    others = values[9:]\n",
    "    try:\n",
    "        m = Chem.MolFromSmiles(smiles)\n",
    "        for i in m.GetAtoms():\n",
    "            if i.GetIsotope():\n",
    "                formula = CalcMolFormula(m, True, True)\n",
    "                diff = True\n",
    "                break\n",
    "            \n",
    "    except:\n",
    "        pass\n",
    "    \n",
    "    ans = '\\t'.join((pubchemid, CAS, formula, MW, smiles, InChI, InChI_key, iupac_name, common_name))\n",
    "    ans += '\\t' + '\\t'.join(others) +'\\n'\n",
    "    \n",
    "    if diff:\n",
    "        return  ans\n",
    "    else:\n",
    "        return line\n",
    "\n"
   ]
  },
  {
   "cell_type": "code",
   "execution_count": null,
   "metadata": {
    "collapsed": true
   },
   "outputs": [],
   "source": []
  }
 ],
 "metadata": {
  "kernelspec": {
   "display_name": "Python 2",
   "language": "python",
   "name": "python2"
  },
  "language_info": {
   "codemirror_mode": {
    "name": "ipython",
    "version": 2
   },
   "file_extension": ".py",
   "mimetype": "text/x-python",
   "name": "python",
   "nbconvert_exporter": "python",
   "pygments_lexer": "ipython2",
   "version": "2.7.13"
  }
 },
 "nbformat": 4,
 "nbformat_minor": 1
}
