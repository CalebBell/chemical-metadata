{
 "cells": [
  {
   "cell_type": "code",
   "execution_count": 40,
   "metadata": {
    "collapsed": false
   },
   "outputs": [
    {
     "data": {
      "text/plain": [
       "<thermo.identifiers.ChemicalMetadataDB at 0x7f6599458450>"
      ]
     },
     "execution_count": 40,
     "metadata": {},
     "output_type": "execute_result"
    }
   ],
   "source": [
    "from thermo import *\n",
    "from thermo.identifiers import ChemicalMetadataDB\n",
    "from numpy.testing import assert_allclose\n",
    "from rdkit import Chem\n",
    "from rdkit.Chem import Descriptors\n",
    "from rdkit.Chem.rdMolDescriptors import CalcMolFormula\n",
    "\n",
    "a = ChemicalMetadataDB(elements=False, main_db=('last_results.txt'), user_dbs=[])\n",
    "\n",
    "a"
   ]
  },
  {
   "cell_type": "code",
   "execution_count": 41,
   "metadata": {
    "collapsed": false
   },
   "outputs": [],
   "source": [
    "data = {}\n",
    "with open('Original metadata.csv') as f:\n",
    "    f.readline()\n",
    "    for line in f.readlines():\n",
    "        name, name2, CAS, formula, charge, MW = line.split('\\t')\n",
    "        data[CAS] = {'Name': name, 'Name2': name2, 'formula': formula, 'charge':int(charge), 'MW': float(MW)}"
   ]
  },
  {
   "cell_type": "code",
   "execution_count": 4,
   "metadata": {
    "collapsed": false
   },
   "outputs": [],
   "source": [
    "# good_syns = {CAS:{'synonyms': [d['Name2']]} for CAS, d in data.items()}\n",
    "\n",
    "# for CAS, d in data.items():\n",
    "#     formula = d['formula'].split('+')[0]\n",
    "#     charge = d['charge']\n",
    "#     formulas = [formula+'+'*charge, formula+'+'+str(charge),\n",
    "#                formula+'('+'+'+ str(charge) + ')', formula+'('+ str(charge)+'+' + ')']\n",
    "#     good_syns[CAS]['synonyms'].extend(formulas)\n",
    "\n",
    "    \n",
    "# good_syns['14464-47-2']['synonyms'].append('deuterium(1+)')\n",
    "\n",
    "# import json\n",
    "# f = open('Good synoynms by CAS.json', 'w')\n",
    "# json.dump(good_syns, f, indent=2, separators=(',', ': '), sort_keys=True)"
   ]
  },
  {
   "cell_type": "code",
   "execution_count": 42,
   "metadata": {
    "collapsed": false
   },
   "outputs": [
    {
     "data": {
      "text/plain": [
       "(124, 106)"
      ]
     },
     "execution_count": 42,
     "metadata": {},
     "output_type": "execute_result"
    }
   ],
   "source": [
    "from collections import Counter\n",
    "ns = []\n",
    "for i in a.CAS_index.values():\n",
    "    ns.extend(list(set(i.all_names)))\n",
    "# Counter(ns).most_common(20)\n",
    "# No dup names :)\n",
    "# len(ns)\n",
    "len(a.CAS_index), len(a.pubchem_index)"
   ]
  },
  {
   "cell_type": "code",
   "execution_count": 45,
   "metadata": {
    "collapsed": false
   },
   "outputs": [
    {
     "name": "stdout",
     "output_type": "stream",
     "text": [
      "('F:', 3, -1, '19469-81-9')\n",
      "('F:', 0, -1, '11062-77-4')\n",
      "('F:', -8, -4, '17923-49-8')\n",
      "('F:', 3, -1, '16971-29-2')\n"
     ]
    }
   ],
   "source": [
    "# None of the charges are wrong?\n",
    "for CAS, d in data.items():\n",
    "    chem = a.search_CAS(CAS)\n",
    "    if not chem:\n",
    "        continue\n",
    "        print('NOTINDB', CAS)\n",
    "        continue\n",
    "    mol = Chem.MolFromSmiles(chem.smiles)\n",
    "    if mol is None:\n",
    "        continue\n",
    "        print('CANTREADMOL', CAS)\n",
    "        continue\n",
    "#     print(Chem.MolToSmiles(mol))\n",
    "    charge = Chem.GetFormalCharge(mol)\n",
    "    try:\n",
    "        assert charge == d['charge']\n",
    "#         print('PASS', charge, d['charge'])\n",
    "    except:\n",
    "        print('F:', charge, d['charge'], CAS)"
   ]
  },
  {
   "cell_type": "code",
   "execution_count": 4,
   "metadata": {
    "collapsed": false
   },
   "outputs": [],
   "source": [
    "# Chem.GetFormalCharge(Chem.MolFromSmiles('[SbH6+3]'))"
   ]
  },
  {
   "cell_type": "code",
   "execution_count": null,
   "metadata": {
    "collapsed": false
   },
   "outputs": [],
   "source": []
  },
  {
   "cell_type": "code",
   "execution_count": 6,
   "metadata": {
    "collapsed": false
   },
   "outputs": [],
   "source": [
    "# mol = Chem.MolFromMolFile('mol/14695-95-5.mol')\n",
    "# mol = Chem.MolFromMolFile('/tmp/399316.mol')\n",
    "\n",
    "# # # mol = Chem.MolFromSmiles('[Sb+3]')\n",
    "# # # When read, 1 atom\n",
    "# # Chem.MolToSmiles(mol, allHsExplicit=True)\n",
    "# # mol.GetNumAtoms()\n",
    "# mw = Descriptors.MolWt(mol)\n",
    "# formula = CalcMolFormula(mol)\n",
    "# mw, formula"
   ]
  },
  {
   "cell_type": "code",
   "execution_count": 47,
   "metadata": {
    "collapsed": false
   },
   "outputs": [
    {
     "name": "stdout",
     "output_type": "stream",
     "text": [
      "('F:', '20561-39-1', 210.0, 211.0, <ChemicalMetadata, name=Astatine ion (At1-), formula=At-, smiles=[At-], MW=210>)\n",
      "('F:', '16518-47-1', 140.934, 116.95, <ChemicalMetadata, name=Arsenate (AsO43-), dihydrogen (8CI,9CI), formula=H2AsO4-, smiles=O=[As]([O-])(O)O, MW=140.934>)\n",
      "('F:', '14493-01-7', 514.694, 515.71, <ChemicalMetadata, name=Platinate(2-), tetrabromo-, (SP-4-1)-, formula=Br4Pt-2, smiles=[Br-].[Br-].[Br-].[Br-].[Pt+2], MW=514.694>)\n",
      "('F:', '19469-81-9', 26.982, 78.84, <ChemicalMetadata, name=Aluminate(1-), tetrahydro-, (T-4)- (9CI), formula=Al+3, smiles=[Al+3], MW=26.982>)\n",
      "('F:', '14897-04-2', 215.041, 216.11, <ChemicalMetadata, name=Cobaltate(3-), hexakis(cyano-κC)-, (OC-6-11)-, formula=C6CoN6-3, smiles=[C-]#N.[C-]#N.[C-]#N.[C-]#N.[C-]#N.[C-]#N.[Co+3], MW=215.041>)\n",
      "('F:', '34786-97-5', 114.938, 139.94, <ChemicalMetadata, name=Vanadate (VO43-), dihydrogen (8CI), formula=O4V-, smiles=[O-].[O-].[O].[O].[V+], MW=114.938>)\n",
      "('F:', '14333-20-1', 161.996, 163.01, <ChemicalMetadata, name=Pertechnetate (TcO41-) (8CI), formula=O4Tc-, smiles=[O].[O].[O].[O].[Tc-], MW=161.996>)\n",
      "('F:', '16971-29-2', 10.812, 14.84, <ChemicalMetadata, name=Borohydride, formula=B+3, smiles=[B+3], MW=10.812>)\n",
      "('F:', '16844-87-4', 139.926, 115.95, <ChemicalMetadata, name=Arsenate (AsO43-), monohydrogen (8CI,9CI), formula=HAsO4-2, smiles=O=[As]([O-])([O-])O, MW=139.926>)\n",
      "('F:', '26450-38-4', 114.938, 138.93, <ChemicalMetadata, name=Vanadate (VO43-), monohydrogen (8CI), formula=O4V-2, smiles=[O-].[O].[O].[O].[V-], MW=114.938>)\n",
      "('F:', '15390-83-7', 78.84, 31.01, <ChemicalMetadata, name=Borate(1-), tetrahydroxy- (9CI), formula=H4BO4-, smiles=O[B-](O)(O)O, MW=78.84>)\n"
     ]
    }
   ],
   "source": [
    "# Most of the MW ones fail due to having added extra hydrogens???? OR MW?\n",
    "for CAS, d in data.items():\n",
    "    chem = a.search_CAS(CAS)\n",
    "    if not chem:\n",
    "        continue\n",
    "    try:\n",
    "        assert_allclose(chem.MW, d['MW'], atol=0.3)\n",
    "    except:\n",
    "        print('F:', CAS, chem.MW, d['MW'],  chem)\n",
    "\n",
    "# Plenty of outstanding work here and with the charges.\n"
   ]
  },
  {
   "cell_type": "code",
   "execution_count": null,
   "metadata": {
    "collapsed": false
   },
   "outputs": [],
   "source": []
  },
  {
   "cell_type": "code",
   "execution_count": null,
   "metadata": {
    "collapsed": true
   },
   "outputs": [],
   "source": []
  },
  {
   "cell_type": "code",
   "execution_count": null,
   "metadata": {
    "collapsed": true
   },
   "outputs": [],
   "source": []
  }
 ],
 "metadata": {
  "kernelspec": {
   "display_name": "Python 2",
   "language": "python",
   "name": "python2"
  },
  "language_info": {
   "codemirror_mode": {
    "name": "ipython",
    "version": 2
   },
   "file_extension": ".py",
   "mimetype": "text/x-python",
   "name": "python",
   "nbconvert_exporter": "python",
   "pygments_lexer": "ipython2",
   "version": "2.7.13"
  }
 },
 "nbformat": 4,
 "nbformat_minor": 1
}
