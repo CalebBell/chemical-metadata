{
 "cells": [
  {
   "cell_type": "code",
   "execution_count": 20,
   "metadata": {
    "collapsed": false
   },
   "outputs": [
    {
     "data": {
      "text/plain": [
       "<thermo.identifiers.ChemicalMetadataDB at 0x7f8f92294810>"
      ]
     },
     "execution_count": 20,
     "metadata": {},
     "output_type": "execute_result"
    }
   ],
   "source": [
    "from thermo import *\n",
    "from thermo.identifiers import ChemicalMetadataDB\n",
    "from numpy.testing import assert_allclose\n",
    "from rdkit import Chem\n",
    "from rdkit.Chem import Descriptors\n",
    "from rdkit.Chem.rdMolDescriptors import CalcMolFormula\n",
    "\n",
    "a = ChemicalMetadataDB(elements=False, main_db=('anion_db_20171009-4.tsv'), user_dbs=[])\n",
    "a"
   ]
  },
  {
   "cell_type": "code",
   "execution_count": 21,
   "metadata": {
    "collapsed": false
   },
   "outputs": [],
   "source": [
    "data = {}\n",
    "with open('Original metadata.csv') as f:\n",
    "    f.readline()\n",
    "    for line in f.readlines():\n",
    "        if len(line.split('\\t')) == 6:\n",
    "            name, name2, CAS, formula, charge, MW = line.split('\\t')\n",
    "        else:\n",
    "            name, name2, CAS, formula, charge = line.split('\\t')\n",
    "            MW = 0\n",
    "        data[CAS] = {'Name': name, 'Name2': name2, 'formula': formula, 'charge':int(charge), 'MW': float(MW)}\n",
    "# data"
   ]
  },
  {
   "cell_type": "code",
   "execution_count": 23,
   "metadata": {
    "collapsed": false
   },
   "outputs": [
    {
     "name": "stdout",
     "output_type": "stream",
     "text": [
      "hi\n"
     ]
    }
   ],
   "source": [
    "good_syns = {CAS:{'synonyms': []} for CAS, d in data.items()}\n",
    "                  \n",
    "for CAS, d in data.items():\n",
    "    # Only take it if original data\n",
    "    if d['MW']:\n",
    "        good_syns[CAS]['synonyms'].append(d['Name2'])\n",
    "\n",
    "for CAS, d in data.items():\n",
    "    formula = d['formula'].split('-')[0]\n",
    "    charge = d['charge']\n",
    "    formulas = [formula+'-'*abs(charge), formula+str(charge),\n",
    "               formula+'('+'-'+ str(abs(charge)) + ')', formula+'('+ str(abs(charge))+'-' + ')']\n",
    "#     print(formula, formulas)\n",
    "    good_syns[CAS]['synonyms'].extend(formulas)\n",
    "\n",
    "good_syns['338-70-5']['synonyms'].append('oxalate')\n",
    "\n",
    "import json\n",
    "f = open('Good synoynms by CAS2.json', 'w')\n",
    "json.dump(good_syns, f, indent=2, separators=(',', ': '), sort_keys=True)\n",
    "print('hi')"
   ]
  },
  {
   "cell_type": "code",
   "execution_count": 24,
   "metadata": {
    "collapsed": false
   },
   "outputs": [
    {
     "data": {
      "text/plain": [
       "[('', 3),\n",
       " ('oxalate', 2),\n",
       " ('STL483862', 1),\n",
       " ('23746-18-1', 1),\n",
       " ('Cobaltate(3-),\\xc2\\xa0hexakis(cyano-\\xce\\xbaC)-,\\xc2\\xa0(OC-6-11)-', 1),\n",
       " ('1395-EP2284155A2', 1),\n",
       " ('1395-EP2316833A1', 1),\n",
       " ('3002-EP2314295A1', 1),\n",
       " ('Argentate(1-), bis(cyano-C)-', 1),\n",
       " ('AC1L18S1', 1),\n",
       " ('4607-EP2305673A1', 1),\n",
       " ('PdCl6(-2)', 1),\n",
       " ('BF4(1-)', 1),\n",
       " ('Hydrazoic acid, ion (1-)', 1),\n",
       " ('1385048-46-3', 1),\n",
       " ('Prussiate', 1),\n",
       " ('Thiosulfate (SO3S2-)', 1),\n",
       " ('Karbonat', 1),\n",
       " ('1395-EP2298776A1', 1),\n",
       " ('1395-EP2295434A2', 1)]"
      ]
     },
     "execution_count": 24,
     "metadata": {},
     "output_type": "execute_result"
    }
   ],
   "source": [
    "from collections import Counter\n",
    "ns = []\n",
    "for i in a.CAS_index.values():\n",
    "    ns.extend(list(set(i.all_names)))\n",
    "Counter(ns).most_common(20)\n",
    "# No dup names :)\n",
    "# len(ns)\n",
    "# len(a.CAS_index), len(a.pubchem_index)\n",
    "# TODO oxalate goes to the one without Hs, 71081\t338-70-5\tC2O4-2"
   ]
  },
  {
   "cell_type": "code",
   "execution_count": 5,
   "metadata": {
    "collapsed": false
   },
   "outputs": [],
   "source": [
    "# None of the charges are wrong?\n",
    "for CAS, d in data.items():\n",
    "    chem = a.search_CAS(CAS)\n",
    "    if not chem:\n",
    "        continue\n",
    "        print('NOTINDB', CAS)\n",
    "        continue\n",
    "    mol = Chem.MolFromSmiles(chem.smiles)\n",
    "    if mol is None:\n",
    "        continue\n",
    "        print('CANTREADMOL', CAS)\n",
    "        continue\n",
    "#     print(Chem.MolToSmiles(mol))\n",
    "    charge = Chem.GetFormalCharge(mol)\n",
    "    try:\n",
    "        assert charge == d['charge']\n",
    "#         print('PASS', charge, d['charge'])\n",
    "    except:\n",
    "        print('F:', charge, d['charge'], CAS)"
   ]
  },
  {
   "cell_type": "code",
   "execution_count": 33,
   "metadata": {
    "collapsed": false
   },
   "outputs": [],
   "source": [
    "# Chem.GetFormalCharge(Chem.MolFromSmiles('[SbH6+3]'))\n",
    "# a.search_CAS('16971-29-2').InChI, a.search_CAS('16971-29-2').formula, a.search_CAS('16971-29-2').smiles"
   ]
  },
  {
   "cell_type": "code",
   "execution_count": null,
   "metadata": {
    "collapsed": false
   },
   "outputs": [],
   "source": []
  },
  {
   "cell_type": "code",
   "execution_count": 6,
   "metadata": {
    "collapsed": false
   },
   "outputs": [],
   "source": [
    "# mol = Chem.MolFromMolFile('mol/14695-95-5.mol')\n",
    "# mol = Chem.MolFromMolFile('/tmp/399316.mol')\n",
    "\n",
    "# # # mol = Chem.MolFromSmiles('[Sb+3]')\n",
    "# # # When read, 1 atom\n",
    "# # Chem.MolToSmiles(mol, allHsExplicit=True)\n",
    "# # mol.GetNumAtoms()\n",
    "# mw = Descriptors.MolWt(mol)\n",
    "# formula = CalcMolFormula(mol)\n",
    "# mw, formula"
   ]
  },
  {
   "cell_type": "code",
   "execution_count": 6,
   "metadata": {
    "collapsed": false
   },
   "outputs": [
    {
     "name": "stdout",
     "output_type": "stream",
     "text": [
      "('F:', '20561-39-1', 210.0, 211.0, <ChemicalMetadata, name=Astatine ion (At1-), formula=At-, smiles=[At-], MW=210>)\n",
      "('F:', '16518-47-1', 140.934, 116.95, <ChemicalMetadata, name=Arsenate (AsO43-), dihydrogen (8CI,9CI), formula=H2AsO4-, smiles=O=[As]([O-])(O)O, MW=140.934>)\n",
      "('F:', '14493-01-7', 514.694, 515.71, <ChemicalMetadata, name=Platinate(2-), tetrabromo-, (SP-4-1)-, formula=Br4Pt-2, smiles=[Br-].[Br-].[Br-].[Br-].[Pt+2], MW=514.694>)\n",
      "('F:', '19469-81-9', 31.014, 78.84, <ChemicalMetadata, name=Aluminate(1-), tetrahydro- (8CI), formula=H4Al-, smiles=[Al-].[H].[H].[H].[H], MW=31.014>)\n",
      "('F:', '14897-04-2', 215.041, 216.11, <ChemicalMetadata, name=Cobaltate(3-), hexakis(cyano-κC)-, (OC-6-11)-, formula=C6CoN6-3, smiles=[C-]#N.[C-]#N.[C-]#N.[C-]#N.[C-]#N.[C-]#N.[Co+3], MW=215.041>)\n",
      "('F:', '34786-97-5', 116.954, 139.94, <ChemicalMetadata, name=Vanadate (V(OH)2O21-), (T-4)- (9CI), formula=H2O4V-, smiles=[O-].[OH-].[OH-].[O].[V+2], MW=116.954>)\n",
      "('F:', '14333-20-1', 161.996, 163.01, <ChemicalMetadata, name=Pertechnetate (TcO41-) (8CI), formula=O4Tc-, smiles=[O].[O].[O].[O].[Tc-], MW=161.996>)\n",
      "('F:', '16844-87-4', 139.926, 115.95, <ChemicalMetadata, name=Arsenate (AsO43-), monohydrogen (8CI,9CI), formula=HAsO4-2, smiles=O=[As]([O-])([O-])O, MW=139.926>)\n",
      "('F:', '26450-38-4', 115.946, 138.93, <ChemicalMetadata, name=Vanadate (V(OH)O32-), (T-4)- (9CI), formula=HO4V-2, smiles=[O-].[O-].[OH-].[O].[V+], MW=115.946>)\n",
      "('F:', '15390-83-7', 78.84, 31.01, <ChemicalMetadata, name=Borate(1-), tetrahydroxy- (9CI), formula=H4BO4-, smiles=O[B-](O)(O)O, MW=78.84>)\n"
     ]
    }
   ],
   "source": [
    "# Most of the MW ones fail due to having added extra hydrogens???? OR MW?\n",
    "for CAS, d in data.items():\n",
    "    chem = a.search_CAS(CAS)\n",
    "    if not chem:\n",
    "        continue\n",
    "    try:\n",
    "        assert_allclose(chem.MW, d['MW'], atol=0.3)\n",
    "    except:\n",
    "        print('F:', CAS, chem.MW, d['MW'],  chem)\n",
    "\n",
    "# Plenty of outstanding work here and with the charges.\n",
    "# 20561-39-1 astatine mos stable.\n",
    "# 16518-47-1 Arsenate (AsO43-), dihydrogen (8CI,9CI), must be a typo - clearly weight is higher.\n",
    "# 14493-01-7 is fine, confirmed.\n",
    "# 19469-81-9 H4Al is simply wrong.\n",
    "# 14897-04-2 is fine\n",
    "# 34786-97-5 is fine, Vanadate (V(OH)2O21-), their error\n",
    "# 14333-20-1 Pertechnetate is fine\n",
    "# 16844-87-4 Arsenate (AsO43-), monohydrogen is fine\n",
    "# 26450-38-4 their typo for sure\n",
    "# 15390-83-7 is fine for sure, their bad"
   ]
  },
  {
   "cell_type": "code",
   "execution_count": null,
   "metadata": {
    "collapsed": false
   },
   "outputs": [],
   "source": []
  },
  {
   "cell_type": "code",
   "execution_count": null,
   "metadata": {
    "collapsed": true
   },
   "outputs": [],
   "source": []
  },
  {
   "cell_type": "code",
   "execution_count": null,
   "metadata": {
    "collapsed": true
   },
   "outputs": [],
   "source": []
  }
 ],
 "metadata": {
  "kernelspec": {
   "display_name": "Python 2",
   "language": "python",
   "name": "python2"
  },
  "language_info": {
   "codemirror_mode": {
    "name": "ipython",
    "version": 2
   },
   "file_extension": ".py",
   "mimetype": "text/x-python",
   "name": "python",
   "nbconvert_exporter": "python",
   "pygments_lexer": "ipython2",
   "version": "2.7.13"
  }
 },
 "nbformat": 4,
 "nbformat_minor": 1
}
