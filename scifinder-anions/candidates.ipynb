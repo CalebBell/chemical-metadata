{
 "cells": [
  {
   "cell_type": "code",
   "execution_count": null,
   "metadata": {
    "collapsed": true
   },
   "outputs": [],
   "source": [
    ">>> Chemical('FeH4O4-2')\n",
    "<Chemical [fe(oh)3--], T=298.15 K, P=101325 Pa>\n",
    "# Fe(OH)4-2 is what you need."
   ]
  },
  {
   "cell_type": "code",
   "execution_count": 3,
   "metadata": {
    "collapsed": false
   },
   "outputs": [],
   "source": [
    "def candidates(name):\n",
    "    hits = [name]\n",
    "    base, end = name.split('-')\n",
    "    if end == '':\n",
    "        try:\n",
    "            i = int(base[-1])\n",
    "            hits.append(base[0:-1] + '-' + str(i))\n",
    "        except:\n",
    "            pass\n",
    "    if '[' in name or ']' in name:\n",
    "        print(name)\n",
    "        hits.extend(candidates(name.replace('[', '').replace(']', '')) )\n",
    "    return hits\n",
    "            \n",
    "# candidates('AgH2O2-')\n",
    "# candidates('[Ru(CN)6]3-')"
   ]
  },
  {
   "cell_type": "code",
   "execution_count": 6,
   "metadata": {
    "collapsed": false
   },
   "outputs": [
    {
     "name": "stdout",
     "output_type": "stream",
     "text": [
      "('AuBr2-', 'AuBr2-')\n",
      "('Be2O32-', 'Be2O32-')\n",
      "('BiCl4-', 'BiCl4-')\n",
      "('C2O4H-', 'C2HO4-')\n",
      "('Cd(OH)42-', 'CdH42O42-')\n",
      "('CrO2-', 'CrO2-')\n",
      "('Cu(CN)2-', 'C2CuN2-')\n",
      "('CuI2-', 'CuI2-')\n",
      "('H2AlO3-', 'AlH2O3-')\n",
      "('H2BO3-', 'BH2O3-')\n",
      "('H2GaO-3', 'GaH2O-3')\n",
      "('H2P2-', 'H2P2-')\n",
      "('H3IO62-', 'H3IO62-')\n",
      "('H3Mo7O243-', 'H3Mo7O243-')\n",
      "('HB4O7-', 'B4HO7-')\n",
      "('HcrO4-', 'HcO4-')\n",
      "('HFeO4-', 'FeHO4-')\n",
      "('HPbO2-', 'HO2Pb-')\n",
      "('HSnO2-', 'HO2Sn-')\n",
      "('In(OH)4-', 'H4InO4-')\n",
      "('IO-3', 'IO-3')\n",
      "('Ru(CN)63-', 'C63N63Ru-')\n",
      "('Ru(CN)64-', 'C64N64Ru-')\n",
      "('RuO4-', 'O4Ru-')\n",
      "('RuO42-', 'O42Ru-')\n",
      "('SbO2-', 'O2Sb-')\n",
      "('SbO3-', 'O3Sb-')\n",
      "('Sn(OH)62-', 'H62O62Sn-')\n",
      "('TeO4-', 'O4Te-')\n",
      "('Ti(OH)2-', 'H2O2Ti-')\n",
      "('ZnO22-', 'O22Zn-')\n",
      "('Zn(OH)42-', 'H42O42Zn-')\n"
     ]
    }
   ],
   "source": [
    "from thermo import *\n",
    "\n",
    "ans = ['AgH2O2-', 'AlF63-', 'AlO-', 'AlO2-', 'Al(OH)4-', 'AsO2-', 'AsO4-3', 'AsO43-', 'AuBr2-', 'AuBr4-', 'AuCl4-', 'B4O7-2', 'Be2O32-', 'BeO2-2', 'BF4-', 'BH4-', 'BiCl4-', 'BO2-', 'Br-', 'BrO-', 'BrO3-', 'BrO4-', 'C2O4-2', 'C2O42-', 'C2O4H-', 'Cd(OH)42-', 'CH3CO2-', 'CH3COO-', 'CHOO-', 'Cl-', 'ClO-', 'ClO2-', 'ClO3-', 'ClO4-', 'CN-', 'CO3-2', 'CO32-', 'Cr2O7-2', 'Cr2O72-', 'CrO2-', 'CrO4-2', 'CrO42-', 'Cr(OH)4-', '[Cu(CN)2]-', 'CuI2-', 'F-', '[Fe(CN)6]3-', 'Fe(CN)6-3', '[Fe(CN)6]4-', 'Fe(CN)6-4', 'FeOH2-', 'Fe(OH)3-', 'Fe(OH)4-', 'Fe(OH)4-2', 'Fe(OH)4-3', 'H2AlO3-', 'H2AsO3-', 'H2AsO4-', 'H2BO3-', 'H2GaO-3', 'H2P2-', 'H2P2O7-2', 'H2PO2-', 'H2PO4-', 'H3IO62-', 'H3Mo7O243-', 'HB4O7-', 'HCO2-', 'HCO3-', 'HCrO4-', 'HcrO4-', 'HF2-', 'HFeO4-', 'HO2-', 'HP2O7-3', 'HPbO2-', 'HPO32-', 'HPO3F-', 'HPO4-2', 'HPO42-', 'HS2O4-', 'HSe-', 'HSeO3-', 'HSeO4-', 'HSnO2-', 'HSO3-', 'HSO4-', 'I-', 'I3-', 'In(OH)4-', 'IO-', 'IO-3', 'IO3-', 'IO4-', '[IrCl6]2-', '[IrCl6]3-', 'MnO4-', 'MnO4-2', 'MnO42-', 'MoO4-2', 'MoO42-', 'N2O22-', 'N3-', 'Ni(OH)3-', 'NO2-', 'NO3-', 'OCN-', 'OH-', 'P2O7-4', '[PdCl4]2-', '[PdCl6]2-', 'Po-', 'PO4-3', 'PO43-', '[PtCl4]2-', '[PtCl6]2-', 'Re-', 'ReO4-', '[RhCl6]3-', '[Ru(CN)6]3-', '[Ru(CN)6]4-', 'RuO4-', 'RuO42-', 'S-2', 'S2-', 'S2-2', 'S22-', 'S2O3-2', 'S2O32-', 'S2O4-2', 'S2O42-', 'S2O62-', 'S2O8-2', 'S2O82-', 'S4O62-', 'SbO2-', 'SbO3-', 'SCN-', 'Se-2', 'Se2-', 'SeO3-2', 'SeO32-', 'SeO4-2', 'SeO42-', 'SH-', 'SiF6-2', 'SiF62-', 'SiO32-', 'SiO4-4', 'Sn(OH)62-', 'SO3-2', 'SO32-', 'SO4-2', 'SO42-', 'TcO4-', 'Te2-', 'TeO32-', 'TeO4-', 'Ti(OH)2-', 'Ti(OH)5-', 'VO3-', 'VO4-3', 'WO4-2', 'WO42-', 'ZnO22-', 'Zn(OH)42-']\n",
    "\n",
    "for an in ans:\n",
    "    an = an.replace('[', '').replace(']', '')\n",
    "    worked = False\n",
    "    for i in candidates(an):\n",
    "        try:\n",
    "            Chemical(i)\n",
    "            worked = True\n",
    "            break\n",
    "        except:\n",
    "            pass\n",
    "#     if not worked:\n",
    "#         if serialize_formula(an) in serialized:\n",
    "#             worked = True\n",
    "    if not worked:\n",
    "        print(an, serialize_formula(an))"
   ]
  },
  {
   "cell_type": "code",
   "execution_count": 1,
   "metadata": {
    "collapsed": false
   },
   "outputs": [
    {
     "data": {
      "text/plain": [
       "(157, 157)"
      ]
     },
     "execution_count": 1,
     "metadata": {},
     "output_type": "execute_result"
    }
   ],
   "source": [
    "from thermo.identifiers import ChemicalMetadataDB\n",
    "from thermo import *\n",
    "db = ChemicalMetadataDB(elements=False, main_db=('anion_db.tsv'), user_dbs=[])\n",
    "\n",
    "serialized = {}\n",
    "\n",
    "for CAS, d in db.CAS_index.items():\n",
    "#     print(serialize_formula(d.formula))\n",
    "    serialized[serialize_formula(d.formula)] = CAS\n",
    "    \n",
    "len(serialized), len(db.CAS_index)"
   ]
  },
  {
   "cell_type": "code",
   "execution_count": null,
   "metadata": {
    "collapsed": false
   },
   "outputs": [],
   "source": []
  },
  {
   "cell_type": "code",
   "execution_count": null,
   "metadata": {
    "collapsed": false
   },
   "outputs": [],
   "source": []
  },
  {
   "cell_type": "code",
   "execution_count": null,
   "metadata": {
    "collapsed": false
   },
   "outputs": [],
   "source": []
  },
  {
   "cell_type": "code",
   "execution_count": null,
   "metadata": {
    "collapsed": false
   },
   "outputs": [],
   "source": []
  },
  {
   "cell_type": "code",
   "execution_count": 75,
   "metadata": {
    "collapsed": false
   },
   "outputs": [],
   "source": []
  },
  {
   "cell_type": "code",
   "execution_count": 77,
   "metadata": {
    "collapsed": false
   },
   "outputs": [
    {
     "data": {
      "text/plain": [
       "(155, 155)"
      ]
     },
     "execution_count": 77,
     "metadata": {},
     "output_type": "execute_result"
    }
   ],
   "source": []
  },
  {
   "cell_type": "code",
   "execution_count": 79,
   "metadata": {
    "collapsed": false
   },
   "outputs": [],
   "source": [
    "# serialized"
   ]
  },
  {
   "cell_type": "code",
   "execution_count": null,
   "metadata": {
    "collapsed": true
   },
   "outputs": [],
   "source": []
  }
 ],
 "metadata": {
  "kernelspec": {
   "display_name": "Python 2",
   "language": "python",
   "name": "python2"
  },
  "language_info": {
   "codemirror_mode": {
    "name": "ipython",
    "version": 2
   },
   "file_extension": ".py",
   "mimetype": "text/x-python",
   "name": "python",
   "nbconvert_exporter": "python",
   "pygments_lexer": "ipython2",
   "version": "2.7.13"
  }
 },
 "nbformat": 4,
 "nbformat_minor": 1
}
