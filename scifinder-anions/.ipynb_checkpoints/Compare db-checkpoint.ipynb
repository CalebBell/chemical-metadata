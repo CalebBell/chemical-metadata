{
 "cells": [
  {
   "cell_type": "code",
   "execution_count": 17,
   "metadata": {
    "collapsed": false
   },
   "outputs": [
    {
     "data": {
      "text/plain": [
       "<thermo.identifiers.ChemicalMetadataDB at 0x7f65994584d0>"
      ]
     },
     "execution_count": 17,
     "metadata": {},
     "output_type": "execute_result"
    }
   ],
   "source": [
    "from thermo import *\n",
    "from thermo.identifiers import ChemicalMetadataDB\n",
    "from numpy.testing import assert_allclose\n",
    "from rdkit import Chem\n",
    "from rdkit.Chem import Descriptors\n",
    "from rdkit.Chem.rdMolDescriptors import CalcMolFormula\n",
    "\n",
    "a = ChemicalMetadataDB(elements=False, main_db=('done2.tsv'), user_dbs=[])\n",
    "\n",
    "a"
   ]
  },
  {
   "cell_type": "code",
   "execution_count": 18,
   "metadata": {
    "collapsed": false
   },
   "outputs": [],
   "source": [
    "data = {}\n",
    "with open('Original metadata.csv') as f:\n",
    "    f.readline()\n",
    "    for line in f.readlines():\n",
    "        name, name2, CAS, formula, charge, MW = line.split('\\t')\n",
    "        data[CAS] = {'Name': name, 'Name2': name2, 'formula': formula, 'charge':int(charge), 'MW': float(MW)}"
   ]
  },
  {
   "cell_type": "code",
   "execution_count": 4,
   "metadata": {
    "collapsed": false
   },
   "outputs": [],
   "source": [
    "# good_syns = {CAS:{'synonyms': [d['Name2']]} for CAS, d in data.items()}\n",
    "\n",
    "# for CAS, d in data.items():\n",
    "#     formula = d['formula'].split('+')[0]\n",
    "#     charge = d['charge']\n",
    "#     formulas = [formula+'+'*charge, formula+'+'+str(charge),\n",
    "#                formula+'('+'+'+ str(charge) + ')', formula+'('+ str(charge)+'+' + ')']\n",
    "#     good_syns[CAS]['synonyms'].extend(formulas)\n",
    "\n",
    "    \n",
    "# good_syns['14464-47-2']['synonyms'].append('deuterium(1+)')\n",
    "\n",
    "# import json\n",
    "# f = open('Good synoynms by CAS.json', 'w')\n",
    "# json.dump(good_syns, f, indent=2, separators=(',', ': '), sort_keys=True)"
   ]
  },
  {
   "cell_type": "code",
   "execution_count": 20,
   "metadata": {
    "collapsed": false
   },
   "outputs": [],
   "source": [
    "from collections import Counter\n",
    "ns = []\n",
    "for i in a.CAS_index.values():\n",
    "    ns.extend(list(set(i.all_names)))\n",
    "# Counter(ns).most_common(20)\n",
    "# No dup names :)"
   ]
  },
  {
   "cell_type": "code",
   "execution_count": 21,
   "metadata": {
    "collapsed": false
   },
   "outputs": [
    {
     "name": "stdout",
     "output_type": "stream",
     "text": [
      "('FAIL', '16474-32-1')\n",
      "('FAIL', '15541-45-4')\n",
      "('FAIL', '16871-55-9')\n",
      "('FAIL', '14493-01-7')\n",
      "('FAIL', '13408-62-3')\n",
      "('FAIL', '17084-08-1')\n",
      "('FAIL', '16871-48-0')\n",
      "('FAIL', '15454-31-6')\n",
      "('FAIL', '15435-66-2')\n",
      "('FAIL', '17111-95-4')\n",
      "('FAIL', '14522-80-6')\n",
      "('F:', 3, -1, '19469-81-9')\n",
      "('F:', 0, -1, '11062-77-4')\n",
      "('FAIL', '17923-49-8')\n",
      "('FAIL', '14485-39-3')\n",
      "('FAIL', '60818-94-2')\n",
      "('FAIL', '14866-68-3')\n",
      "('FAIL', '18130-74-0')\n",
      "('FAIL', '48042-08-6')\n",
      "('FAIL', '19426-03-0')\n",
      "('FAIL', '14337-14-5')\n",
      "('FAIL', '14127-70-9')\n",
      "('FAIL', '14897-04-2')\n",
      "('FAIL', '16871-54-8')\n",
      "('FAIL', '20175-28-4')\n",
      "('FAIL', '16919-18-9')\n",
      "('FAIL', '15845-23-5')\n",
      "('FAIL', '16871-50-4')\n",
      "('FAIL', '113152-92-4')\n",
      "('FAIL', '14998-27-7')\n",
      "('FAIL', '14349-67-8')\n",
      "('FAIL', '13408-63-4')\n",
      "('FAIL', '17141-41-2')\n",
      "('FAIL', '14874-70-5')\n",
      "('FAIL', '15391-88-5')\n",
      "('FAIL', '15852-22-9')\n",
      "('F:', 3, -1, '16971-29-2')\n",
      "('FAIL', '4358-26-3')\n",
      "('FAIL', '13965-91-8')\n",
      "('FAIL', '12258-53-6')\n",
      "('FAIL', '14950-87-9')\n",
      "('FAIL', '21340-03-4')\n",
      "('FAIL', '14648-50-1')\n",
      "('FAIL', '16973-45-8')\n",
      "('FAIL', '15056-35-6')\n",
      "('FAIL', '14337-12-3')\n",
      "('FAIL', '21412-00-0')\n",
      "('FAIL', '15390-83-7')\n"
     ]
    }
   ],
   "source": [
    "# None of the charges are wrong?\n",
    "for CAS, d in data.items():\n",
    "    chem = a.search_CAS(CAS)\n",
    "    if not chem:\n",
    "        print('FAIL', CAS)\n",
    "        continue\n",
    "    mol = Chem.MolFromSmiles(chem.smiles)\n",
    "    if mol is None:\n",
    "        print('FAIL', CAS)\n",
    "        continue\n",
    "#     print(Chem.MolToSmiles(mol))\n",
    "    charge = Chem.GetFormalCharge(mol)\n",
    "    try:\n",
    "        assert charge == d['charge']\n",
    "#         print('PASS', charge, d['charge'])\n",
    "    except:\n",
    "        print('F:', charge, d['charge'], CAS)"
   ]
  },
  {
   "cell_type": "code",
   "execution_count": 4,
   "metadata": {
    "collapsed": false
   },
   "outputs": [],
   "source": [
    "# Chem.GetFormalCharge(Chem.MolFromSmiles('[SbH6+3]'))"
   ]
  },
  {
   "cell_type": "code",
   "execution_count": 71,
   "metadata": {
    "collapsed": false
   },
   "outputs": [
    {
     "data": {
      "text/plain": [
       "(98, 122)"
      ]
     },
     "execution_count": 71,
     "metadata": {},
     "output_type": "execute_result"
    }
   ],
   "source": [
    "len(a.pubchem_index), len(a.CAS_index)"
   ]
  },
  {
   "cell_type": "code",
   "execution_count": 6,
   "metadata": {
    "collapsed": false
   },
   "outputs": [],
   "source": [
    "# mol = Chem.MolFromMolFile('mol/14695-95-5.mol')\n",
    "# mol = Chem.MolFromMolFile('/tmp/399316.mol')\n",
    "\n",
    "# # # mol = Chem.MolFromSmiles('[Sb+3]')\n",
    "# # # When read, 1 atom\n",
    "# # Chem.MolToSmiles(mol, allHsExplicit=True)\n",
    "# # mol.GetNumAtoms()\n",
    "# mw = Descriptors.MolWt(mol)\n",
    "# formula = CalcMolFormula(mol)\n",
    "# mw, formula"
   ]
  },
  {
   "cell_type": "code",
   "execution_count": 26,
   "metadata": {
    "collapsed": false
   },
   "outputs": [
    {
     "name": "stdout",
     "output_type": "stream",
     "text": [
      "('F:', '20561-39-1', 210.0, 211.0, <ChemicalMetadata, name=Astatine ion (At1-), formula=At-, smiles=[At-], MW=210>)\n",
      "('F:', '16518-47-1', 140.934, 116.95, <ChemicalMetadata, name=Arsenate (AsO43-), dihydrogen (8CI,9CI), formula=H2AsO4-, smiles=O=[As]([O-])(O)O, MW=140.934>)\n",
      "('F:', '19469-81-9', 26.982, 78.84, <ChemicalMetadata, name=Aluminate(1-), tetrahydro-, (T-4)- (9CI), formula=Al+3, smiles=[Al+3], MW=26.982>)\n",
      "('F:', '14333-24-5', 250.203, 250.01, <ChemicalMetadata, name=Perrhenate (ReO41-) (8CI), formula=O4Re-, smiles=[O].[O].[O].[O].[Re-], MW=250.203>)\n",
      "('F:', '34786-97-5', 114.938, 139.94, <ChemicalMetadata, name=Vanadate (VO43-), dihydrogen (8CI), formula=O4V-, smiles=[O-].[O-].[O].[O].[V+], MW=114.938>)\n",
      "('F:', '14333-20-1', 161.996, 163.01, <ChemicalMetadata, name=Pertechnetate (TcO41-) (8CI), formula=O4Tc-, smiles=[O].[O].[O].[O].[Tc-], MW=161.996>)\n",
      "('F:', '16971-29-2', 10.812, 14.84, <ChemicalMetadata, name=Borohydride, formula=B+3, smiles=[B+3], MW=10.812>)\n",
      "('F:', '16844-87-4', 139.926, 115.95, <ChemicalMetadata, name=Arsenate (AsO43-), monohydrogen (8CI,9CI), formula=HAsO4-2, smiles=O=[As]([O-])([O-])O, MW=139.926>)\n",
      "('F:', '26450-38-4', 114.938, 138.93, <ChemicalMetadata, name=Vanadate (VO43-), monohydrogen (8CI), formula=O4V-2, smiles=[O-].[O].[O].[O].[V-], MW=114.938>)\n"
     ]
    }
   ],
   "source": [
    "# Most of the MW ones fail due to having added extra hydrogens???? OR MW?\n",
    "for CAS, d in data.items():\n",
    "    chem = a.search_CAS(CAS)\n",
    "    if not chem:\n",
    "        continue\n",
    "    try:\n",
    "        assert_allclose(chem.MW, d['MW'], atol=0.1)\n",
    "    except:\n",
    "        print('F:', CAS, chem.MW, d['MW'],  chem)\n",
    "\n",
    "# 4 plutonium, 3 americium, 1 curioum, 1 promethium, 1 deuterium"
   ]
  },
  {
   "cell_type": "code",
   "execution_count": null,
   "metadata": {
    "collapsed": false
   },
   "outputs": [],
   "source": []
  },
  {
   "cell_type": "code",
   "execution_count": null,
   "metadata": {
    "collapsed": true
   },
   "outputs": [],
   "source": []
  },
  {
   "cell_type": "code",
   "execution_count": null,
   "metadata": {
    "collapsed": true
   },
   "outputs": [],
   "source": []
  }
 ],
 "metadata": {
  "kernelspec": {
   "display_name": "Python 2",
   "language": "python",
   "name": "python2"
  },
  "language_info": {
   "codemirror_mode": {
    "name": "ipython",
    "version": 2
   },
   "file_extension": ".py",
   "mimetype": "text/x-python",
   "name": "python",
   "nbconvert_exporter": "python",
   "pygments_lexer": "ipython2",
   "version": "2.7.13"
  }
 },
 "nbformat": 4,
 "nbformat_minor": 1
}
