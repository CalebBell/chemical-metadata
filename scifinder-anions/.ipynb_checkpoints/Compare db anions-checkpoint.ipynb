{
 "cells": [
  {
   "cell_type": "code",
   "execution_count": 5,
   "metadata": {
    "collapsed": false
   },
   "outputs": [
    {
     "data": {
      "text/plain": [
       "339"
      ]
     },
     "execution_count": 5,
     "metadata": {},
     "output_type": "execute_result"
    }
   ],
   "source": [
    "from thermo import *\n",
    "from thermo.identifiers import ChemicalMetadataDB\n",
    "from numpy.testing import assert_allclose\n",
    "from rdkit import Chem\n",
    "from rdkit.Chem import Descriptors\n",
    "from rdkit.Chem.rdMolDescriptors import CalcMolFormula\n",
    "\n",
    "db = ChemicalMetadataDB(elements=False, main_db=('anion_db.tsv'), \n",
    "                        user_dbs=['/home/caleb/Documents/University/CHE3123/thermo/thermo/Identifiers/Cation db.tsv'])\n",
    "def formula_to_charge(formula):\n",
    "    splits = formula.split('-')\n",
    "    if len(splits) == 1 or splits[1] == '':\n",
    "        return -1\n",
    "    else:\n",
    "        return -1*int(splits[1])\n",
    "    \n",
    "# [(i.formula, formula_to_charge(i.formula)) for i in db.CAS_index.values()]\n",
    "def formula_variations_ion(formula, charge):\n",
    "    formula = formula.split('-')[0]\n",
    "    formulas = [formula+'-'*abs(charge), \n",
    "                formula+str(charge),\n",
    "                formula+'('+'-'+ str(abs(charge)) + ')',\n",
    "                formula+'('+ str(abs(charge))+'-' + ')',\n",
    "                formula+'('+ '-'*abs(charge) + ')']\n",
    "    return formulas\n",
    "# formula_variations_ion('AgH2O2-', -1)\n",
    "# 259 in that book vs 339 here.\n",
    "len(db.CAS_index)"
   ]
  },
  {
   "cell_type": "code",
   "execution_count": 2,
   "metadata": {
    "collapsed": false
   },
   "outputs": [],
   "source": [
    "data = {}\n",
    "with open('Original metadata.csv') as f:\n",
    "    f.readline()\n",
    "    for line in f.readlines():\n",
    "        if len(line.split('\\t')) == 6:\n",
    "            name, name2, CAS, formula, charge, MW = line.split('\\t')\n",
    "        else:\n",
    "            name, name2, CAS, formula, charge = line.split('\\t')\n",
    "            MW = 0\n",
    "        data[CAS] = {'Name': name, 'Name2': name2, 'formula': formula, 'charge':int(charge), 'MW': float(MW)}\n",
    "# data"
   ]
  },
  {
   "cell_type": "code",
   "execution_count": null,
   "metadata": {
    "collapsed": false
   },
   "outputs": [],
   "source": []
  },
  {
   "cell_type": "code",
   "execution_count": 3,
   "metadata": {
    "collapsed": false
   },
   "outputs": [],
   "source": [
    "good_syns = {CAS:{'synonyms': []} for CAS, d in data.items()}\n",
    "                  \n",
    "for CAS, d in data.items():\n",
    "    if d['MW']:\n",
    "        good_syns[CAS]['synonyms'].append(d['Name2'])\n",
    "\n",
    "for CAS, d in data.items():\n",
    "    good_syns[CAS]['synonyms'].extend(formula_variations_ion(d['formula'], d['charge']))\n",
    "for CAS, d in db.CAS_index.items():\n",
    "    CAS = d.CASs\n",
    "    syns = formula_variations_ion(d.formula, formula_to_charge(d.formula))\n",
    "    if CAS in good_syns:\n",
    "        syns = [i for i in syns if i not in good_syns[CAS]['synonyms']]\n",
    "        good_syns[CAS]['synonyms'].extend(syns)\n",
    "    else:\n",
    "        good_syns[CAS] = {}\n",
    "        good_syns[CAS]['synonyms'] = syns\n",
    "    \n",
    "good_syns['338-70-5']['synonyms'].append('oxalate')\n",
    "good_syns['18500-32-8']['synonyms'].append('H2NNH3+')\n",
    "\n",
    "\n",
    "# 'H2P2O7-2 is in there as P2O7H2-2 - look into unique searching by formula? Should be possible.\n",
    "# 34175-11-6 'HS2O4-', as HO4S2-\n",
    "# 14102-45-5 is 'H2AsO3-',\n",
    "# HP2O7-3 as well\n",
    "# 44030-61-7 is 'HPO3F-', here's a good case to the search\n",
    "# OCN NCO- 661-20-1\n",
    "# 920-52-5 'C2O4H-' already done\n",
    "['CH3COO-', 'CHOO-']\n",
    "\n",
    "ClO2m = {'formula': 'ClO2-', 'MW': 67.448, 'pubchem': 197148, 'smiles': '[O-]Cl=O',\n",
    "         'inchikey': 'QBWCMBCROVPCKQ-UHFFFAOYSA-M', 'inchi': 'InChI=1S/ClHO2/c2-1-3/h(H,2,3)/p-1'}\n",
    "# Get the rest from the api\n",
    "# Key problem - if there's no mol downloaded, there's a no go.\n",
    "\n",
    "ClO3m = {'formula': 'ClO3-', 'pubchem': 104770} \n",
    "Br3m = {'pubchem': 77881}\n",
    "BrO3m = {'pubchem': 84979}\n",
    "AlOm = {'smiles': '[Al-].[O]', 'MW': 42.981, 'formula': 'AlO-'} # No inchi\n",
    "BrO4m = {'pubchem': 5460630}\n",
    "IO4m = {'pubchem': 167232}\n",
    "B4O7m = {'pubchem': 91932232}\n",
    "HF2m = {'pubchem': 21864337}\n",
    "SiF6m = {'pubchem': 28117}\n",
    "B4O7m = {'pubchem': 91932232}\n",
    "N2O2m = {'pubchem': 4686309}\n",
    "SbF6m = {'pubchem': 3868826}\n",
    "IO3m =  {'pubchem': 84927}\n",
    "AgO2H2m = {'smiles': '[Ag+1].[OH-].[OH-]', 'formula': 'H2AgO2-1', 'MW': 124.8752}\n",
    "CrO4H4m = {'smiles': '[OH-].[OH-].[OH-].[OH-].[Cr+3]', 'formula': 'CrH4O4-', 'MW': 120.024} # read wrong no pubchem\n",
    "TiO5H5 = {'smiles': '[OH-].[OH-].[OH-].[OH-].[Ti+4]', 'MW': 132.902, 'formula': 'TiH5O5-'} # read wrong no pubchem\n",
    "FeO4H4m3 = {'smiles': '[OH-].[OH-].[OH-].[OH-].[Fe+1]', 'formula': 'FeH4O4-3', 'MW': 123.873} # read wrong no pubchem\n",
    "FeO4H4m = {'smiles': '[OH-].[OH-].[OH-].[OH-].[Fe+3]', 'formula': 'FeH4O4-', 'MW': 123.873} # read wrong no pubchem\n",
    "FeO4H4m2 = {'smiles': '[OH-].[OH-].[OH-].[OH-].[Fe+2]', 'formula': 'FeH4O4-2', 'MW': 123.873} # read wrong no pubchem\n",
    "FeO3H3m = {'smiles': '[OH-].[OH-].[OH-].[Fe+2]', 'formula': 'FeH3O3-', 'MW': 106.866}\n",
    "FeOH2m = {'formula': 'FeH2O-', 'MW': 73.86028, 'smiles': '[H-].[OH-].[Fe+1]'}\n",
    "HB4O7m = {'formula': 'HB4O7-', 'MW': 156.24774} # no smiles available?\n",
    "\n",
    "custom_ions = {'14998-27-7': ClO2m, '14866-68-3': ClO3m, '14522-80-6': Br3m, '15541-45-4': BrO3m,\n",
    "              '12758-12-2': AlOm, '16474-32-1': BrO4m, '15056-35-6': IO4m, '12258-53-6': B4O7m,\n",
    "              '18130-74-0': HF2m, '17084-08-1': SiF6m, '12258-53-6': B4O7m, '15435-66-2': N2O2m,\n",
    "              '17111-95-4': SbF6m, '15454-31-6': IO3m, '12258-16-1': AgO2H2m, '97775-49-0':CrO4H4m,\n",
    "              '119046-04-7': TiO5H5, '29145-79-7': FeO4H4m, '150393-25-2': FeO4H4m3,\n",
    "              '73128-36-6': FeO4H4m2, '70756-39-7': FeO3H3m, '150381-43-4':FeOH2m,\n",
    "              '12447-33-5': HB4O7m}\n",
    "\n",
    "# 15454-31-6\n",
    "for CAS, d in custom_ions.items():\n",
    "    if CAS in good_syns:\n",
    "        good_syns[CAS].update(d)\n",
    "    else:\n",
    "        good_syns[CAS] = d\n",
    "\n",
    "import json\n",
    "f = open('Good synoynms by CAS2.json', 'w')\n",
    "json.dump(good_syns, f, indent=2, separators=(',', ': '), sort_keys=True)\n",
    "f.close()"
   ]
  },
  {
   "cell_type": "code",
   "execution_count": null,
   "metadata": {
    "collapsed": false
   },
   "outputs": [],
   "source": []
  },
  {
   "cell_type": "code",
   "execution_count": null,
   "metadata": {
    "collapsed": true
   },
   "outputs": [],
   "source": []
  },
  {
   "cell_type": "code",
   "execution_count": 4,
   "metadata": {
    "collapsed": false
   },
   "outputs": [
    {
     "data": {
      "text/plain": [
       "[('IN003168', 1),\n",
       " ('selanide', 1),\n",
       " ('STL483862', 1),\n",
       " ('23746-18-1', 1),\n",
       " ('Cobaltate(3-),\\xc2\\xa0hexakis(cyano-\\xce\\xbaC)-,\\xc2\\xa0(OC-6-11)-', 1),\n",
       " ('1395-EP2284155A2', 1),\n",
       " ('1395-EP2316833A1', 1),\n",
       " ('3002-EP2314295A1', 1),\n",
       " ('Argentate(1-), bis(cyano-C)-', 1),\n",
       " ('AC1L18S1', 1),\n",
       " ('4607-EP2305673A1', 1),\n",
       " ('PdCl6(-2)', 1),\n",
       " ('BF4(1-)', 1),\n",
       " ('Hydrazoic acid, ion (1-)', 1),\n",
       " ('1385048-46-3', 1),\n",
       " ('Prussiate', 1),\n",
       " ('Hexachlororhodate(III)', 1),\n",
       " ('Thiosulfate (SO3S2-)', 1),\n",
       " ('Karbonat', 1),\n",
       " ('HAsO4(--)', 1)]"
      ]
     },
     "execution_count": 4,
     "metadata": {},
     "output_type": "execute_result"
    }
   ],
   "source": [
    "from collections import Counter\n",
    "ns = []\n",
    "for i in db.CAS_index.values():\n",
    "    ns.extend(list(set(i.all_names)))\n",
    "Counter(ns).most_common(20)\n",
    "# No dup names :)\n",
    "# len(ns)\n",
    "# len(a.CAS_index), len(a.pubchem_index)\n",
    "# TODO oxalate goes to the one without Hs, 71081\t338-70-5\tC2O4-2"
   ]
  },
  {
   "cell_type": "code",
   "execution_count": null,
   "metadata": {
    "collapsed": true
   },
   "outputs": [],
   "source": []
  },
  {
   "cell_type": "code",
   "execution_count": 5,
   "metadata": {
    "collapsed": false
   },
   "outputs": [
    {
     "name": "stdout",
     "output_type": "stream",
     "text": [
      "('F:', 0, -1, '119046-04-7')\n"
     ]
    }
   ],
   "source": [
    "# None of the charges are wrong?\n",
    "for CAS, d in data.items():\n",
    "    chem = db.search_CAS(CAS)\n",
    "    if not chem:\n",
    "        continue\n",
    "        print('NOTINDB', CAS)\n",
    "        continue\n",
    "    mol = Chem.MolFromSmiles(chem.smiles)\n",
    "    if mol is None:\n",
    "        continue\n",
    "        print('CANTREADMOL', CAS)\n",
    "        continue\n",
    "#     print(Chem.MolToSmiles(mol))\n",
    "    charge = Chem.GetFormalCharge(mol)\n",
    "    try:\n",
    "        assert charge == d['charge']\n",
    "#         print('PASS', charge, d['charge'])\n",
    "    except:\n",
    "        print('F:', charge, d['charge'], CAS)"
   ]
  },
  {
   "cell_type": "code",
   "execution_count": 33,
   "metadata": {
    "collapsed": false
   },
   "outputs": [],
   "source": [
    "# Chem.GetFormalCharge(Chem.MolFromSmiles('[SbH6+3]'))\n",
    "# a.search_CAS('16971-29-2').InChI, a.search_CAS('16971-29-2').formula, a.search_CAS('16971-29-2').smiles"
   ]
  },
  {
   "cell_type": "code",
   "execution_count": null,
   "metadata": {
    "collapsed": false
   },
   "outputs": [],
   "source": []
  },
  {
   "cell_type": "code",
   "execution_count": 6,
   "metadata": {
    "collapsed": false
   },
   "outputs": [],
   "source": [
    "# mol = Chem.MolFromMolFile('mol/14695-95-5.mol')\n",
    "# mol = Chem.MolFromMolFile('/tmp/399316.mol')\n",
    "\n",
    "# # # mol = Chem.MolFromSmiles('[Sb+3]')\n",
    "# # # When read, 1 atom\n",
    "# # Chem.MolToSmiles(mol, allHsExplicit=True)\n",
    "# # mol.GetNumAtoms()\n",
    "# mw = Descriptors.MolWt(mol)\n",
    "# formula = CalcMolFormula(mol)\n",
    "# mw, formula"
   ]
  },
  {
   "cell_type": "code",
   "execution_count": 6,
   "metadata": {
    "collapsed": false
   },
   "outputs": [
    {
     "name": "stdout",
     "output_type": "stream",
     "text": [
      "('F:', '20561-39-1', 210.0, 211.0, <ChemicalMetadata, name=Astatine ion (At1-), formula=At-, smiles=[At-], MW=210>)\n",
      "('F:', '16518-47-1', 140.934, 116.95, <ChemicalMetadata, name=Arsenate (AsO43-), dihydrogen (8CI,9CI), formula=H2AsO4-, smiles=O=[As]([O-])(O)O, MW=140.934>)\n",
      "('F:', '14493-01-7', 514.694, 515.71, <ChemicalMetadata, name=Platinate(2-), tetrabromo-, (SP-4-1)-, formula=Br4Pt-2, smiles=[Br-].[Br-].[Br-].[Br-].[Pt+2], MW=514.694>)\n",
      "('F:', '19469-81-9', 31.014, 78.84, <ChemicalMetadata, name=Aluminate(1-), tetrahydro- (8CI), formula=H4Al-, smiles=[Al-].[H].[H].[H].[H], MW=31.014>)\n",
      "('F:', '14897-04-2', 215.041, 216.11, <ChemicalMetadata, name=Cobaltate(3-), hexakis(cyano-κC)-, (OC-6-11)-, formula=C6CoN6-3, smiles=[C-]#N.[C-]#N.[C-]#N.[C-]#N.[C-]#N.[C-]#N.[Co+3], MW=215.041>)\n",
      "('F:', '34786-97-5', 116.954, 139.94, <ChemicalMetadata, name=Vanadate (V(OH)2O21-), (T-4)- (9CI), formula=H2O4V-, smiles=[O-].[OH-].[OH-].[O].[V+2], MW=116.954>)\n",
      "('F:', '14333-20-1', 161.996, 163.01, <ChemicalMetadata, name=Pertechnetate (TcO41-) (8CI), formula=O4Tc-, smiles=[O].[O].[O].[O].[Tc-], MW=161.996>)\n",
      "('F:', '16844-87-4', 139.926, 115.95, <ChemicalMetadata, name=Arsenate (AsO43-), monohydrogen (8CI,9CI), formula=HAsO4-2, smiles=O=[As]([O-])([O-])O, MW=139.926>)\n",
      "('F:', '26450-38-4', 115.946, 138.93, <ChemicalMetadata, name=Vanadate (V(OH)O32-), (T-4)- (9CI), formula=HO4V-2, smiles=[O-].[O-].[OH-].[O].[V+], MW=115.946>)\n",
      "('F:', '15390-83-7', 78.84, 31.01, <ChemicalMetadata, name=Borate(1-), tetrahydroxy- (9CI), formula=H4BO4-, smiles=O[B-](O)(O)O, MW=78.84>)\n"
     ]
    }
   ],
   "source": [
    "# Most of the MW ones fail due to having added extra hydrogens???? OR MW?\n",
    "for CAS, d in data.items():\n",
    "    chem = db.search_CAS(CAS)\n",
    "    if not chem or d['MW'] == 0:\n",
    "        continue\n",
    "    try:\n",
    "        assert_allclose(chem.MW, d['MW'], atol=0.3)\n",
    "    except:\n",
    "        print('F:', CAS, chem.MW, d['MW'],  chem)\n",
    "\n",
    "# Plenty of outstanding work here and with the charges.\n",
    "# 20561-39-1 astatine mos stable.\n",
    "# 16518-47-1 Arsenate (AsO43-), dihydrogen (8CI,9CI), must be a typo - clearly weight is higher.\n",
    "# 14493-01-7 is fine, confirmed.\n",
    "# 19469-81-9 H4Al is simply wrong.\n",
    "# 14897-04-2 is fine\n",
    "# 34786-97-5 is fine, Vanadate (V(OH)2O21-), their error\n",
    "# 14333-20-1 Pertechnetate is fine\n",
    "# 16844-87-4 Arsenate (AsO43-), monohydrogen is fine\n",
    "# 26450-38-4 their typo for sure\n",
    "# 15390-83-7 is fine for sure, their bad"
   ]
  },
  {
   "cell_type": "code",
   "execution_count": null,
   "metadata": {
    "collapsed": false
   },
   "outputs": [],
   "source": []
  },
  {
   "cell_type": "code",
   "execution_count": null,
   "metadata": {
    "collapsed": true
   },
   "outputs": [],
   "source": []
  },
  {
   "cell_type": "code",
   "execution_count": null,
   "metadata": {
    "collapsed": true
   },
   "outputs": [],
   "source": []
  }
 ],
 "metadata": {
  "kernelspec": {
   "display_name": "Python 2",
   "language": "python",
   "name": "python2"
  },
  "language_info": {
   "codemirror_mode": {
    "name": "ipython",
    "version": 2
   },
   "file_extension": ".py",
   "mimetype": "text/x-python",
   "name": "python",
   "nbconvert_exporter": "python",
   "pygments_lexer": "ipython2",
   "version": "2.7.13"
  }
 },
 "nbformat": 4,
 "nbformat_minor": 1
}
